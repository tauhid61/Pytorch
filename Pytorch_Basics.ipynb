{
  "nbformat": 4,
  "nbformat_minor": 0,
  "metadata": {
    "colab": {
      "name": "Pytorch_Basics.ipynb",
      "provenance": [],
      "collapsed_sections": []
    },
    "kernelspec": {
      "name": "python3810jvsc74a57bd09664b962a03f8b79011badec500c7834d97c454924b62189fe94ee36da2629ca",
      "display_name": "Python 3.8.10  ('torch': venv)",
      "language": "python"
    },
    "language_info": {
      "name": "python",
      "version": "3.8.10"
    },
    "accelerator": "GPU"
  },
  "cells": [
    {
      "cell_type": "markdown",
      "metadata": {
        "id": "u1JBUdL9tmA_"
      },
      "source": [
        "# Pytorch Tensor Basics. \n",
        "Credit : Aladdin Persson."
      ]
    },
    {
      "cell_type": "code",
      "metadata": {
        "id": "XHY1cwRDkDbo",
        "colab": {
          "base_uri": "https://localhost:8080/"
        },
        "outputId": "a7ff8d02-e922-4c20-dbfb-7b6951c49d02"
      },
      "source": [
        "import torch\n",
        "print(torch.cuda.is_available())\n",
        "print(torch.__version__)"
      ],
      "execution_count": 1,
      "outputs": [
        {
          "output_type": "stream",
          "name": "stdout",
          "text": [
            "True\n1.9.0+cu111\n"
          ]
        }
      ]
    },
    {
      "cell_type": "markdown",
      "metadata": {
        "id": "H9VJXUx1o9G5"
      },
      "source": [
        "## Initializing a tensor."
      ]
    },
    {
      "cell_type": "code",
      "metadata": {
        "id": "atr1Pz92WweA"
      },
      "source": [
        "device = \"cuda\" if torch.cuda.is_available() else \"cpu\"\n",
        "my_tensor = torch.tensor([[1,2,3], [4,5,6]],\n",
        "                         dtype=torch.float32,\n",
        "                         device=device, requires_grad=True)"
      ],
      "execution_count": 2,
      "outputs": []
    },
    {
      "cell_type": "code",
      "metadata": {
        "colab": {
          "base_uri": "https://localhost:8080/"
        },
        "id": "fPT1ZU40npvk",
        "outputId": "34137a17-25ee-43d1-a92a-66117c6b4a0a"
      },
      "source": [
        "print(my_tensor)\n",
        "print(my_tensor.dtype)\n",
        "print(my_tensor.device)\n",
        "print(my_tensor.requires_grad)"
      ],
      "execution_count": 3,
      "outputs": [
        {
          "output_type": "stream",
          "name": "stdout",
          "text": [
            "tensor([[1., 2., 3.],\n        [4., 5., 6.]], device='cuda:0', requires_grad=True)\ntorch.float32\ncuda:0\nTrue\n"
          ]
        }
      ]
    },
    {
      "cell_type": "code",
      "metadata": {
        "colab": {
          "base_uri": "https://localhost:8080/"
        },
        "id": "Jl9paydinxx9",
        "outputId": "7b93949f-fa53-4e0b-c2d1-685d65758de2"
      },
      "source": [
        "x = torch.empty(size=(3,3)) ## uninitialized random data.\n",
        "print(x)\n",
        "x = torch.zeros((3,3))\n",
        "print(x)\n",
        "x = torch.ones((3,3))\n",
        "print(x)\n",
        "x = torch.rand((3,3)) ## in a uniform distribution (0,1)\n",
        "print(x)\n",
        "x = torch.eye(3,3)\n",
        "print(x)\n",
        "x = torch.arange(start=1,end=10, step=1)\n",
        "print(x)\n",
        "x = torch.linspace(start=0.1, end=1, steps=10)\n",
        "print(x)\n",
        "x = torch.empty((3,3)).normal_(mean=0, std=1) ## normal Distribution\n",
        "print(x)\n",
        "x = torch.empty((3,3)).uniform_(0, 1) ## uniform Distribution\n",
        "print(x)\n",
        "x = torch.diag(torch.ones(3))\n",
        "print(x)"
      ],
      "execution_count": 4,
      "outputs": [
        {
          "output_type": "stream",
          "name": "stdout",
          "text": [
            "tensor([[0.0000e+00, 0.0000e+00, 0.0000e+00],\n        [0.0000e+00, 2.8026e-45, 0.0000e+00],\n        [1.1210e-44, 0.0000e+00, 1.4013e-45]])\ntensor([[0., 0., 0.],\n        [0., 0., 0.],\n        [0., 0., 0.]])\ntensor([[1., 1., 1.],\n        [1., 1., 1.],\n        [1., 1., 1.]])\ntensor([[0.1555, 0.0991, 0.2107],\n        [0.1782, 0.7864, 0.4168],\n        [0.1827, 0.3295, 0.5258]])\ntensor([[1., 0., 0.],\n        [0., 1., 0.],\n        [0., 0., 1.]])\ntensor([1, 2, 3, 4, 5, 6, 7, 8, 9])\ntensor([0.1000, 0.2000, 0.3000, 0.4000, 0.5000, 0.6000, 0.7000, 0.8000, 0.9000,\n        1.0000])\ntensor([[ 0.2639, -0.7730, -0.2116],\n        [-0.5817,  0.9920, -0.5601],\n        [-0.3100, -0.3765, -0.2387]])\ntensor([[0.8105, 0.4682, 0.1930],\n        [0.7984, 0.2516, 0.7075],\n        [0.4739, 0.4973, 0.0890]])\ntensor([[1., 0., 0.],\n        [0., 1., 0.],\n        [0., 0., 1.]])\n"
          ]
        }
      ]
    },
    {
      "cell_type": "markdown",
      "metadata": {
        "id": "II-mu5EWq3yB"
      },
      "source": [
        "## Different Tensor Data Types."
      ]
    },
    {
      "cell_type": "code",
      "metadata": {
        "colab": {
          "base_uri": "https://localhost:8080/"
        },
        "id": "ztfma9IMpWaW",
        "outputId": "1971f306-317c-49f3-89d5-fa6356b8278a"
      },
      "source": [
        "tensor = torch.arange(4)\n",
        "print(tensor)\n",
        "print(tensor.bool())\n",
        "print(tensor.short()) ## int16\n",
        "print(tensor.long()) ## int32\n",
        "print(tensor.half()) ## float16\n",
        "print(tensor.float()) ## float32\n",
        "print(tensor.double()) ## flloat64"
      ],
      "execution_count": 5,
      "outputs": [
        {
          "output_type": "stream",
          "name": "stdout",
          "text": [
            "tensor([0, 1, 2, 3])\ntensor([False,  True,  True,  True])\ntensor([0, 1, 2, 3], dtype=torch.int16)\ntensor([0, 1, 2, 3])\ntensor([0., 1., 2., 3.], dtype=torch.float16)\ntensor([0., 1., 2., 3.])\ntensor([0., 1., 2., 3.], dtype=torch.float64)\n"
          ]
        }
      ]
    },
    {
      "cell_type": "markdown",
      "metadata": {
        "id": "I7DYcBxrrpak"
      },
      "source": [
        "## Tensor Conversion."
      ]
    },
    {
      "cell_type": "code",
      "metadata": {
        "colab": {
          "base_uri": "https://localhost:8080/"
        },
        "id": "inS9VeKOrFCo",
        "outputId": "58ee89e1-3275-4852-ccd1-f38984f2060b"
      },
      "source": [
        "import numpy as np \n",
        "np_arr = np.array([1,2,3,4,])\n",
        "print(np_arr)\n",
        "tensor = torch.from_numpy(np_arr)\n",
        "print(tensor)\n",
        "np_arr_2 = tensor.numpy()\n",
        "print(np_arr_2)"
      ],
      "execution_count": 6,
      "outputs": [
        {
          "output_type": "stream",
          "name": "stdout",
          "text": [
            "[1 2 3 4]\ntensor([1, 2, 3, 4], dtype=torch.int32)\n[1 2 3 4]\n"
          ]
        }
      ]
    },
    {
      "cell_type": "markdown",
      "metadata": {
        "id": "6Hz9w4kJsMe4"
      },
      "source": [
        "## Tensor Math."
      ]
    },
    {
      "cell_type": "code",
      "metadata": {
        "colab": {
          "base_uri": "https://localhost:8080/"
        },
        "id": "rdCzaPC6r6hs",
        "outputId": "d6ceeccc-925c-4b17-86c5-45abc14ddf9c"
      },
      "source": [
        "x = torch.tensor([1,2,3,4,5])\n",
        "y = torch.tensor([10,11,12,13,14])\n",
        "z = x+y\n",
        "print(z)\n",
        "z = x-y\n",
        "print(z)\n",
        "z = x*y\n",
        "print(z)\n",
        "z = y.div(x)\n",
        "print(z)\n",
        "z = x.pow(2)\n",
        "print(z)\n",
        "z = x ** 2\n",
        "print(z)"
      ],
      "execution_count": 7,
      "outputs": [
        {
          "output_type": "stream",
          "name": "stdout",
          "text": [
            "tensor([11, 13, 15, 17, 19])\ntensor([-9, -9, -9, -9, -9])\ntensor([10, 22, 36, 52, 70])\ntensor([10.0000,  5.5000,  4.0000,  3.2500,  2.8000])\ntensor([ 1,  4,  9, 16, 25])\ntensor([ 1,  4,  9, 16, 25])\n"
          ]
        }
      ]
    },
    {
      "cell_type": "markdown",
      "metadata": {
        "id": "KuRcqzF7tiYv"
      },
      "source": [
        " ## Comparison."
      ]
    },
    {
      "cell_type": "code",
      "metadata": {
        "colab": {
          "base_uri": "https://localhost:8080/"
        },
        "id": "HSz0jyKLscCV",
        "outputId": "daa3b89b-071f-4945-a3a7-c4a241f8e027"
      },
      "source": [
        "x = torch.tensor([1,2,3,4,5])\n",
        "y = torch.tensor([10,11,12,13,14])\n",
        "z = x>0\n",
        "print(z)\n",
        "z = x<0\n",
        "print(z)"
      ],
      "execution_count": 8,
      "outputs": [
        {
          "output_type": "stream",
          "name": "stdout",
          "text": [
            "tensor([True, True, True, True, True])\ntensor([False, False, False, False, False])\n"
          ]
        }
      ]
    },
    {
      "cell_type": "markdown",
      "metadata": {
        "id": "n_9Bgjbpt7aa"
      },
      "source": [
        "## Matrix Multiplication."
      ]
    },
    {
      "cell_type": "code",
      "metadata": {
        "colab": {
          "base_uri": "https://localhost:8080/"
        },
        "id": "pL6-cvost63G",
        "outputId": "e55355af-3a0a-468d-cac5-cdbbee7b383f"
      },
      "source": [
        "## Exponentiation.\n",
        "matrix = torch.rand(5,5)\n",
        "mat = matrix.matrix_power(5)\n",
        "print(mat)\n",
        "\n",
        "## Normal Matmul\n",
        "x1 = torch.rand((2, 3))\n",
        "x2 = torch.rand((3, 5))\n",
        "z = torch.mm(x1, x2)\n",
        "print(z)\n",
        "z = x1.mm(x2)\n",
        "print(z)\n",
        "\n",
        "## Element Wise Mul.\n",
        "x = torch.tensor([1,2,3,4,5])\n",
        "y = torch.tensor([10,11,12,13,14])\n",
        "z = x * y \n",
        "print(z) \n",
        "\n",
        "## Dot Product Mul.\n",
        "x = torch.tensor([1,2,3,4,5])\n",
        "y = torch.tensor([10,11,12,13,14])\n",
        "z = torch.dot(x, y)\n",
        "print(z)"
      ],
      "execution_count": 9,
      "outputs": [
        {
          "output_type": "stream",
          "name": "stdout",
          "text": [
            "tensor([[ 6.3854,  6.9448,  9.2505,  6.9034,  8.7392],\n        [13.2806, 14.4324, 19.2756, 14.4064, 18.1967],\n        [ 9.5288, 10.3728, 13.8286, 10.3456, 13.0639],\n        [ 9.8140, 10.6507, 14.2326, 10.6426, 13.4557],\n        [17.3318, 18.8355, 25.1257, 18.7575, 23.7378]])\ntensor([[0.5319, 0.5338, 0.4033, 0.6663, 0.6102],\n        [0.3552, 0.5386, 0.2368, 0.3740, 0.4864]])\ntensor([[0.5319, 0.5338, 0.4033, 0.6663, 0.6102],\n        [0.3552, 0.5386, 0.2368, 0.3740, 0.4864]])\ntensor([10, 22, 36, 52, 70])\ntensor(190)\n"
          ]
        }
      ]
    },
    {
      "cell_type": "code",
      "metadata": {
        "colab": {
          "base_uri": "https://localhost:8080/"
        },
        "id": "x2NHYNZ-x84v",
        "outputId": "33af270a-eeb3-442c-e87b-a9aa3c6a835e"
      },
      "source": [
        "## tensor batch Multiplication.\n",
        "batch = 32 \n",
        "n = 10\n",
        "m = 20 \n",
        "p = 30 \n",
        "tensor1 = torch.rand((batch, n, m))\n",
        "tensor2 = torch.rand((batch, m, p))\n",
        "out_bmm = torch.bmm(tensor1, tensor2)\n",
        "print(tensor1.shape)\n",
        "print(tensor2.shape)\n",
        "print(out_bmm.shape)"
      ],
      "execution_count": 10,
      "outputs": [
        {
          "output_type": "stream",
          "name": "stdout",
          "text": [
            "torch.Size([32, 10, 20])\ntorch.Size([32, 20, 30])\ntorch.Size([32, 10, 30])\n"
          ]
        }
      ]
    },
    {
      "cell_type": "markdown",
      "metadata": {
        "id": "fk29wbUNzxzz"
      },
      "source": [
        "## Useful Math Operations."
      ]
    },
    {
      "cell_type": "code",
      "metadata": {
        "colab": {
          "base_uri": "https://localhost:8080/"
        },
        "id": "6HX5j9W6zeo8",
        "outputId": "d19bea97-fd99-433e-c5d1-1d348e1c6430"
      },
      "source": [
        "x = torch.arange(0,4)\n",
        "y = torch.arange(40,44)\n",
        "print(x)\n",
        "sum_x = torch.sum(x, dim=0)\n",
        "print(sum_x)\n",
        "## min, max op.\n",
        "max = torch.min(x, dim=0)\n",
        "min = torch.min(x, dim=0)\n",
        "argmax = torch.argmax(x, dim=0)\n",
        "argmin = torch.argmin(x, dim=0)\n",
        "abs_x = torch.abs(x)\n",
        "## checking op\n",
        "z = torch.eq(x,y)\n",
        "print(z)\n",
        "## sort\n",
        "z = torch.sort(y, dim=0, descending=True)\n",
        "print(z)\n",
        "## Clamp Op.\n",
        "z = torch.clamp(x, min=0, max=1)\n",
        "print(z)"
      ],
      "execution_count": 11,
      "outputs": [
        {
          "output_type": "stream",
          "name": "stdout",
          "text": [
            "tensor([0, 1, 2, 3])\ntensor(6)\ntensor([False, False, False, False])\ntorch.return_types.sort(\nvalues=tensor([43, 42, 41, 40]),\nindices=tensor([3, 2, 1, 0]))\ntensor([0, 1, 1, 1])\n"
          ]
        }
      ]
    },
    {
      "cell_type": "markdown",
      "metadata": {
        "id": "nZN7lNHX1Z0X"
      },
      "source": [
        "## Tensor Indexing."
      ]
    },
    {
      "cell_type": "code",
      "metadata": {
        "colab": {
          "base_uri": "https://localhost:8080/"
        },
        "id": "76e6sAP1z5la",
        "outputId": "08dfe7c8-b728-4d9e-efcf-4c6d88d77310"
      },
      "source": [
        "## same as pandas dataframe indexing\n",
        "batch_size = 10\n",
        "features = 25 \n",
        "x = torch.rand((batch_size, features))\n",
        "print(x[0, :].shape)\n",
        "print(x[:, 0].shape)\n",
        "print(x[2, 0:10])\n",
        "\n",
        "x = torch.arange(10)\n",
        "print(x[8:])\n",
        "\n",
        "x = torch.rand(3,5)\n",
        "print(x[0:3, 0:2])\n",
        "\n",
        "## more advanced\n",
        "x = torch.arange(10)\n",
        "print(x[(x<2) & (x>6)])\n",
        "print(x[x.remainder(2) == 0])\n",
        "\n",
        "# useful op.\n",
        "print(torch.where(x>5, x, x*2)) # ternary operation  ? : \n",
        "# finding distinct numbers\n",
        "x = torch.tensor([0,0,1,1,2,2,2,4])\n",
        "print(x.unique())\n",
        "## finding num of dim\n",
        "print(x.ndimension())\n",
        "# finding num of element\n",
        "print(x.numel())"
      ],
      "execution_count": 12,
      "outputs": [
        {
          "output_type": "stream",
          "name": "stdout",
          "text": [
            "torch.Size([25])\ntorch.Size([10])\ntensor([0.8509, 0.6181, 0.6298, 0.8762, 0.8426, 0.6752, 0.0137, 0.0747, 0.9639,\n        0.3783])\ntensor([8, 9])\ntensor([[0.8188, 0.1098],\n        [0.4133, 0.5317],\n        [0.5476, 0.9962]])\ntensor([], dtype=torch.int64)\ntensor([0, 2, 4, 6, 8])\ntensor([ 0,  2,  4,  6,  8, 10,  6,  7,  8,  9])\ntensor([0, 1, 2, 4])\n1\n8\n"
          ]
        }
      ]
    },
    {
      "cell_type": "markdown",
      "metadata": {
        "id": "pTB4-49I5gSC"
      },
      "source": [
        "## Tensor Reshaping."
      ]
    },
    {
      "cell_type": "code",
      "metadata": {
        "colab": {
          "base_uri": "https://localhost:8080/"
        },
        "id": "9L6wbXKb3V5K",
        "outputId": "1ee67b04-a7ec-4b77-a52a-d85625efcc19"
      },
      "source": [
        "x = torch.arange(9)\n",
        "print(x)\n",
        "# size reshaping\n",
        "x_33 = x.reshape(3,3)\n",
        "print(x_33)\n",
        "# transpose\n",
        "print(x_33.t())\n",
        "## concating tensors\n",
        "x1 = torch.rand((1,2))\n",
        "x2 = torch.rand((1,2))\n",
        "z1 = torch.cat((x1, x2), dim=0)\n",
        "z2 = torch.cat((x1, x2), dim=1)\n",
        "print(x1.shape)\n",
        "print(x2.shape)\n",
        "print(z1.shape)\n",
        "print(z2.shape)\n",
        "\n",
        "\n"
      ],
      "execution_count": 13,
      "outputs": [
        {
          "output_type": "stream",
          "name": "stdout",
          "text": [
            "tensor([0, 1, 2, 3, 4, 5, 6, 7, 8])\ntensor([[0, 1, 2],\n        [3, 4, 5],\n        [6, 7, 8]])\ntensor([[0, 3, 6],\n        [1, 4, 7],\n        [2, 5, 8]])\ntorch.Size([1, 2])\ntorch.Size([1, 2])\ntorch.Size([2, 2])\ntorch.Size([1, 4])\n"
          ]
        }
      ]
    },
    {
      "cell_type": "markdown",
      "metadata": {
        "id": "EI1M7w4X8bQ5"
      },
      "source": [
        "## More Advanced Stuff (Most Useful Ones)"
      ]
    },
    {
      "cell_type": "code",
      "metadata": {
        "colab": {
          "base_uri": "https://localhost:8080/"
        },
        "id": "OHuxBIpe5uq9",
        "outputId": "08cda7d1-a234-49bc-fedf-ba80c4f572e9"
      },
      "source": [
        "## flattening tensors.\n",
        "batch = 64\n",
        "x = torch.rand((batch, 2, 5))\n",
        "z = x.view(batch, -1)\n",
        "print(x.shape)\n",
        "print(z.shape)\n",
        "\n",
        "## rotating axis\n",
        "z = x.permute(0, 2, 1)\n",
        "print(z.shape)\n",
        "\n",
        "## add/remove dimensions\n",
        "x = torch.arange(10)\n",
        "print(x.shape)\n",
        "z = x.unsqueeze(0)\n",
        "print(z.shape)\n",
        "z = x.unsqueeze(0).unsqueeze(1).unsqueeze(2)\n",
        "print(z.shape)\n",
        "\n",
        "z = z.squeeze(2)\n",
        "print(z.shape)"
      ],
      "execution_count": 14,
      "outputs": [
        {
          "output_type": "stream",
          "name": "stdout",
          "text": [
            "torch.Size([64, 2, 5])\ntorch.Size([64, 10])\ntorch.Size([64, 5, 2])\ntorch.Size([10])\ntorch.Size([1, 10])\ntorch.Size([1, 1, 1, 10])\ntorch.Size([1, 1, 10])\n"
          ]
        }
      ]
    }
  ]
}